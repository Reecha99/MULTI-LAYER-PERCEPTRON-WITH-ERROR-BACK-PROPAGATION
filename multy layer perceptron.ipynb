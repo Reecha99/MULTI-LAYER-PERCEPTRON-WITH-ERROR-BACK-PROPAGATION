{
 "cells": [
  {
   "cell_type": "code",
   "execution_count": 2,
   "metadata": {},
   "outputs": [],
   "source": [
    "from random import randrange\n",
    "from random import random\n",
    "import pandas as pd\n",
    "import matplotlib.pyplot as plt\n",
    "%matplotlib inline"
   ]
  },
  {
   "cell_type": "code",
   "execution_count": 3,
   "metadata": {},
   "outputs": [],
   "source": [
    "from math import exp"
   ]
  },
  {
   "cell_type": "code",
   "execution_count": 4,
   "metadata": {},
   "outputs": [],
   "source": [
    "from random import seed"
   ]
  },
  {
   "cell_type": "code",
   "execution_count": 5,
   "metadata": {},
   "outputs": [],
   "source": [
    "import tkinter as tk\n",
    "from tkinter import filedialog"
   ]
  },
  {
   "cell_type": "code",
   "execution_count": 6,
   "metadata": {},
   "outputs": [],
   "source": [
    "from sklearn.preprocessing import StandardScaler\n",
    "from sklearn.model_selection import train_test_split"
   ]
  },
  {
   "cell_type": "code",
   "execution_count": 7,
   "metadata": {},
   "outputs": [],
   "source": [
    "def buildNetwork(inputParameters):\n",
    "    network=[]\n",
    "    for i in range(1,len(inputParameters)):\n",
    "        layer = [{'weights':[random() for j in range(inputParameters[i-1])]} for k in range(inputParameters[i])]\n",
    "        network.append(layer)\n",
    "    return network"
   ]
  },
  {
   "cell_type": "code",
   "execution_count": 8,
   "metadata": {
    "scrolled": true
   },
   "outputs": [],
   "source": [
    "def weightedSum(weights,inputs):\n",
    "    v=0.0\n",
    "    for i in range(len(weights)):\n",
    "        v+=weights[i]*inputs[i]\n",
    "    return v"
   ]
  },
  {
   "cell_type": "code",
   "execution_count": 9,
   "metadata": {},
   "outputs": [],
   "source": [
    "def activationFunction(val):\n",
    "    return 1.0/(1.0+exp(-val))"
   ]
  },
  {
   "cell_type": "code",
   "execution_count": 10,
   "metadata": {},
   "outputs": [],
   "source": [
    "def activationDerivative(val):\n",
    "    return val*(1-val)"
   ]
  },
  {
   "cell_type": "code",
   "execution_count": 11,
   "metadata": {},
   "outputs": [],
   "source": [
    "def accuracy(desired,y):\n",
    "    count=0\n",
    "    for i in range(len(desired)):\n",
    "        if(desired[i]==y[i]):\n",
    "            count+=1\n",
    "    return (count/float(len(desired))*100)"
   ]
  },
  {
   "cell_type": "code",
   "execution_count": 12,
   "metadata": {},
   "outputs": [],
   "source": [
    "def forwardPropagate(network,row):\n",
    "    inputs=row\n",
    "    for i in range(len(network)):\n",
    "        previousLayerOutput=[]\n",
    "        for n in network[i]:\n",
    "            #print(\"length wts:\",len(n['weights']),\" inputs :\",len(inputs))\n",
    "            wtdSum=weightedSum(n['weights'],inputs)\n",
    "            n['output']=activationFunction(wtdSum)\n",
    "            previousLayerOutput.append(n['output'])\n",
    "        inputs=previousLayerOutput\n",
    "    return inputs"
   ]
  },
  {
   "cell_type": "code",
   "execution_count": 13,
   "metadata": {},
   "outputs": [],
   "source": [
    "def ErrorBackPropagation(network,desired):\n",
    "    numOfLayer=len(network)\n",
    "    for i in range(len(network[-1])):\n",
    "        network[-1][i]['delta']=(desired[i]-network[-1][i]['output'])*activationDerivative(network[-1][i]['output'])\n",
    "    for i in range(numOfLayer-2,-1,-1):\n",
    "        for j in range(len(network[i])):\n",
    "            err=0.0\n",
    "            for k in range(len(network[i+1])):\n",
    "                err+=network[i+1][k]['weights'][j]*network[i+1][k]['delta']\n",
    "            network[i][j]['delta']=err*activationDerivative(network[i][j]['output'])\n",
    "        "
   ]
  },
  {
   "cell_type": "code",
   "execution_count": 14,
   "metadata": {},
   "outputs": [],
   "source": [
    "def weightUpdate(network,inputs,learningRate):\n",
    "    for i in range(len(network)):\n",
    "        inp=inputs[:-1]\n",
    "        if(i!=0):\n",
    "            inp=[neuron['output'] for neuron in network[i-1]]\n",
    "        for neuron in network[i]:\n",
    "            for j in range(len(inp)):\n",
    "                neuron['weights'][j]+=learningRate*neuron['delta']*inp[j]"
   ]
  },
  {
   "cell_type": "code",
   "execution_count": 15,
   "metadata": {},
   "outputs": [],
   "source": [
    "def train(network,train,learningRate,epoch,sizeOfOutput):\n",
    "    for i in range(epoch):\n",
    "        errorSum=0\n",
    "        for row in train:\n",
    "            output=forwardPropagate(network,row)\n",
    "            desired=[0]*sizeOfOutput\n",
    "            desired[int(row[-1])]=1\n",
    "            for j in range(sizeOfOutput):\n",
    "                errorSum+=abs(desired[j]-output[j])\n",
    "            ErrorBackPropagation(network,desired)\n",
    "            weightUpdate(network,row,learningRate)\n",
    "        #print(\"epoch=\",i,\" || error=\",errorSum)"
   ]
  },
  {
   "cell_type": "code",
   "execution_count": 16,
   "metadata": {},
   "outputs": [],
   "source": [
    "def predict(network,inputs):\n",
    "    out=forwardPropagate(network,inputs)\n",
    "    return out.index(max(out))"
   ]
  },
  {
   "cell_type": "code",
   "execution_count": 17,
   "metadata": {},
   "outputs": [],
   "source": [
    "def SplitData(data,num):\n",
    "    datasetSplit=[]\n",
    "    datasetCopy=list(data)\n",
    "    splitSize=int(len(data)/num)\n",
    "    for i in range(num):\n",
    "        split=[]\n",
    "        while(len(split)<splitSize):\n",
    "            index=randrange(len(datasetCopy))\n",
    "            split.append(datasetCopy.pop(index))\n",
    "        datasetSplit.append(split)\n",
    "    return datasetSplit"
   ]
  },
  {
   "cell_type": "code",
   "execution_count": 18,
   "metadata": {},
   "outputs": [],
   "source": [
    "def test(network,testData,numberOfSplits,numOfOutput):\n",
    "    Splits=SplitData(testData,numberOfSplits)\n",
    "    score=[]\n",
    "    output=[]\n",
    "    desired=[]\n",
    "    grapgData=[]\n",
    "    for split in Splits:\n",
    "        for row in split:\n",
    "            out=predict(network,row)\n",
    "            output.append(out)\n",
    "            target=row[-1]\n",
    "            desired.append(target)\n",
    "            a=accuracy(desired,output)\n",
    "            grapgData.append(a)\n",
    "        acc=accuracy(desired,output)\n",
    "        score.append(acc)\n",
    "    result=[score,grapgData]\n",
    "    return result"
   ]
  },
  {
   "cell_type": "code",
   "execution_count": 19,
   "metadata": {},
   "outputs": [],
   "source": [
    "def main(normalize):\n",
    "    epoch=int(input(\"Enter the numbet of epoch: \"))\n",
    "    LR=float(input(\"Enter the Learning rate: \"))\n",
    "    root=tk.Tk()\n",
    "    root.withdraw()\n",
    "    filePath=filedialog.askopenfilename()\n",
    "    data=pd.read_csv(filePath)\n",
    "    data.dropna(inplace=True)\n",
    "    X=data.drop('class',axis=1).values\n",
    "    X=StandardScaler().fit_transform(X)\n",
    "    col=data.columns\n",
    "    if(normalize):\n",
    "        normalizedData=pd.DataFrame(X,columns=col[:-1])\n",
    "        normalizedData['class']=data['class']\n",
    "        print(normalizedData.head(10))\n",
    "    else:\n",
    "        normalizedData=pd.DataFrame(data.drop('class',axis=1),columns=col[:-1])\n",
    "        normalizedData['class']=data['class']\n",
    "        print(normalizedData.head(10))\n",
    "    Xtrain,Xtest,Ytrain,Ytest=train_test_split(data.drop('class',axis=1).values,normalizedData['class'].values,test_size=0.3)\n",
    "    TrainDf=pd.DataFrame(Xtrain,columns=col[:-1])\n",
    "    TrainDf['class']=Ytrain\n",
    "    TestDf=pd.DataFrame(Xtest,columns=col[:-1])\n",
    "    TestDf['class']=Ytest\n",
    "    numOfLayer=int(input(\"Enter the number of layers : \"))\n",
    "    networkParameter=[]\n",
    "    for i in range(numOfLayer):\n",
    "        a=int(input(\"Enter the number of neurons in layer :\"))\n",
    "        networkParameter.append(a)\n",
    "    #print(networkParameter[-1])\n",
    "    network=buildNetwork(networkParameter)\n",
    "    print(\"Starting training\")\n",
    "    train(network,TrainDf.values,LR,epoch,networkParameter[-1])\n",
    "    numSplits=int(input(\"Enter the number of validation splits: \"))\n",
    "    score=test(network,TestDf.values,numSplits,networkParameter[-1])\n",
    "    return score"
   ]
  },
  {
   "cell_type": "code",
   "execution_count": 23,
   "metadata": {},
   "outputs": [
    {
     "name": "stdout",
     "output_type": "stream",
     "text": [
      "Enter the numbet of epoch: 100\n",
      "Enter the Learning rate: 0.001\n",
      "        attr1      attr2     attr3     attr4     attr5      attr6      attr7  \\\n",
      "0  140.562500  55.683782 -0.234571 -0.699648  3.199833  19.110426   7.975532   \n",
      "1  102.507812  58.882430  0.465318 -0.515088  1.677258  14.860146  10.576487   \n",
      "2  103.015625  39.341649  0.323328  1.051164  3.121237  21.744669   7.735822   \n",
      "3  136.750000  57.178449 -0.068415 -0.636238  3.642977  20.959280   6.896499   \n",
      "4   88.726562  40.672225  0.600866  1.123492  1.178930  11.468720  14.269573   \n",
      "5   93.570312  46.698114  0.531905  0.416721  1.636288  14.545074  10.621748   \n",
      "6  119.484375  48.765059  0.031460 -0.112168  0.999164   9.279612  19.206230   \n",
      "7  130.382812  39.844056 -0.158323  0.389540  1.220736  14.378941  13.539456   \n",
      "8  107.250000  52.627078  0.452688  0.170347  2.331940  14.486853   9.001004   \n",
      "9  107.257812  39.496488  0.465882  1.162877  4.079431  24.980418   7.397080   \n",
      "\n",
      "        attr8  class  \n",
      "0   74.242225      0  \n",
      "1  127.393580      0  \n",
      "2   63.171909      0  \n",
      "3   53.593661      0  \n",
      "4  252.567306      0  \n",
      "5  131.394004      0  \n",
      "6  479.756567      0  \n",
      "7  198.236457      0  \n",
      "8  107.972506      0  \n",
      "9   57.784738      0  \n",
      "Enter the number of layers : 10\n",
      "Enter the number of neurons in layer :8\n",
      "Enter the number of neurons in layer :10\n",
      "Enter the number of neurons in layer :12\n",
      "Enter the number of neurons in layer :13\n",
      "Enter the number of neurons in layer :14\n",
      "Enter the number of neurons in layer :13\n",
      "Enter the number of neurons in layer :12\n",
      "Enter the number of neurons in layer :6\n",
      "Enter the number of neurons in layer :4\n",
      "Enter the number of neurons in layer :2\n",
      "Starting training\n",
      "Enter the number of validation splits: 1\n"
     ]
    }
   ],
   "source": [
    "score=main(False)\n",
    "plt.ylabel('Accuracy')\n",
    "plt.xlabel('Iteration')\n",
    "plt.plot(score[1])\n",
    "print(score[0])"
   ]
  },
  {
   "cell_type": "code",
   "execution_count": 24,
   "metadata": {},
   "outputs": [
    {
     "name": "stdout",
     "output_type": "stream",
     "text": [
      "[91.75046554934822]\n"
     ]
    },
    {
     "data": {
      "image/png": "[encoded data removed]",
      "text/plain": [
       "<Figure size 432x288 with 1 Axes>"
      ]
     },
     "metadata": {
      "needs_background": "light"
     },
     "output_type": "display_data"
    }
   ],
   "source": []
  },
  {
   "cell_type": "code",
   "execution_count": null,
   "metadata": {},
   "outputs": [],
   "source": []
  },
  {
   "cell_type": "code",
   "execution_count": null,
   "metadata": {},
   "outputs": [],
   "source": []
  },
  {
   "cell_type": "code",
   "execution_count": null,
   "metadata": {},
   "outputs": [],
   "source": []
  },
  {
   "cell_type": "code",
   "execution_count": 25,
   "metadata": {},
   "outputs": [
    {
     "name": "stdout",
     "output_type": "stream",
     "text": [
      "Enter the numbet of epoch: 100\n",
      "Enter the Learning rate: 0.001\n",
      "      attr1     attr2     attr3     attr4     attr5     attr6     attr7  \\\n",
      "0  1.149317  1.334832 -0.669570 -0.400459 -0.319440 -0.370625 -0.072798   \n",
      "1 -0.334168  1.802265 -0.011785 -0.370535 -0.371102 -0.588924  0.504427   \n",
      "2 -0.314372 -1.053322 -0.145233 -0.116593 -0.322107 -0.235328 -0.125996   \n",
      "3  1.000694  1.553254 -0.513409 -0.390178 -0.304404 -0.275666 -0.312265   \n",
      "4 -0.871402 -0.858879  0.115609 -0.104866 -0.388010 -0.763111  1.324026   \n",
      "5 -0.682579  0.021713  0.050796 -0.219458 -0.372492 -0.605106  0.514472   \n",
      "6  0.327629  0.323766 -0.419542 -0.305208 -0.394110 -0.875546  2.419609   \n",
      "7  0.752482 -0.979903 -0.597908 -0.223865 -0.386592 -0.613639  1.161993   \n",
      "8 -0.149304  0.888141 -0.023655 -0.259403 -0.348888 -0.608097  0.154783   \n",
      "9 -0.148999 -1.030695 -0.011255 -0.098480 -0.289595 -0.069137 -0.201172   \n",
      "\n",
      "      attr8  class  \n",
      "0 -0.287438      0  \n",
      "1  0.211581      0  \n",
      "2 -0.391373      0  \n",
      "3 -0.481300      0  \n",
      "4  1.386794      0  \n",
      "5  0.249140      0  \n",
      "6  3.519795      0  \n",
      "7  0.876701      0  \n",
      "8  0.029244      0  \n",
      "9 -0.441952      0  \n",
      "Enter the number of layers : 10\n",
      "Enter the number of neurons in layer :8\n",
      "Enter the number of neurons in layer :10\n",
      "Enter the number of neurons in layer :12\n",
      "Enter the number of neurons in layer :13\n",
      "Enter the number of neurons in layer :14\n",
      "Enter the number of neurons in layer :13\n",
      "Enter the number of neurons in layer :12\n",
      "Enter the number of neurons in layer :6\n",
      "Enter the number of neurons in layer :4\n",
      "Enter the number of neurons in layer :2\n",
      "Starting training\n",
      "Enter the number of validation splits: 1\n",
      "Accuracy [90.93109869646182]\n"
     ]
    },
    {
     "data": {
      "image/png": "[encoded data removed]",
      "text/plain": [
       "<Figure size 432x288 with 1 Axes>"
      ]
     },
     "metadata": {
      "needs_background": "light"
     },
     "output_type": "display_data"
    }
   ],
   "source": [
    "score=main(True)\n",
    "plt.ylabel('Accuracy')\n",
    "plt.xlabel('Iteration')\n",
    "plt.plot(score[1])\n",
    "print(\"Accuracy\",score[0])"
   ]
  },
  {
   "cell_type": "code",
   "execution_count": null,
   "metadata": {},
   "outputs": [],
   "source": [
    "\n"
   ]
  },
  {
   "cell_type": "code",
   "execution_count": null,
   "metadata": {
    "scrolled": false
   },
   "outputs": [],
   "source": []
  },
  {
   "cell_type": "code",
   "execution_count": 26,
   "metadata": {},
   "outputs": [
    {
     "name": "stdout",
     "output_type": "stream",
     "text": [
      "Enter the numbet of epoch: 100\n",
      "Enter the Learning rate: 0.001\n",
      "        pCom1      pCom2      pCom3     pCom4  class\n",
      "0  -27.191086 -29.677875  19.480712  3.042950      0\n",
      "1   24.476215  -6.024175 -11.394628  5.335957      0\n",
      "2  -39.938920 -10.828048 -14.768748  2.101549      0\n",
      "3  -48.000825 -29.833257  16.330411  2.836173      0\n",
      "4  147.919433  18.562548 -22.296929  1.584217      0\n",
      "5   28.073053  -0.474673 -20.924256  5.225414      0\n",
      "6  373.725043  35.293498  13.025063 -9.068986      0\n",
      "7   95.622950  -8.922042  11.008201 -0.042814      0\n",
      "8    5.391950 -10.443855  -9.030527  6.385434      0\n",
      "9  -45.559469 -11.739464 -10.329842 -0.283569      0\n",
      "Enter the number of layers : 10\n",
      "Enter the number of neurons in layer :4\n",
      "Enter the number of neurons in layer :5\n",
      "Enter the number of neurons in layer :7\n",
      "Enter the number of neurons in layer :9\n",
      "Enter the number of neurons in layer :10\n",
      "Enter the number of neurons in layer :7\n",
      "Enter the number of neurons in layer :5\n",
      "Enter the number of neurons in layer :5\n",
      "Enter the number of neurons in layer :5\n",
      "Enter the number of neurons in layer :2\n",
      "Starting training\n",
      "Enter the number of validation splits: 1\n",
      "Accuracy [90.54003724394786]\n"
     ]
    },
    {
     "data": {
      "image/png": "[encoded data removed]",
      "text/plain": [
       "<Figure size 432x288 with 1 Axes>"
      ]
     },
     "metadata": {
      "needs_background": "light"
     },
     "output_type": "display_data"
    }
   ],
   "source": [
    "#PCA\n",
    "score=main(False)\n",
    "plt.ylabel('Accuracy')\n",
    "plt.xlabel('Iteration')\n",
    "plt.plot(score[1])\n",
    "print(\"Accuracy\",score[0])"
   ]
  },
  {
   "cell_type": "code",
   "execution_count": 27,
   "metadata": {},
   "outputs": [
    {
     "name": "stdout",
     "output_type": "stream",
     "text": [
      "Enter the numbet of epoch: 100\n",
      "Enter the Learning rate: 0.001\n",
      "   component1  component2  component3  component4  class\n",
      "0   -0.000914    0.008758   -0.000794    0.004168      0\n",
      "1    0.006099   -0.000079    0.000239    0.000309      0\n",
      "2    0.003524   -0.001694    0.002476    0.004205      0\n",
      "3   -0.000931    0.007725   -0.000350    0.005530      0\n",
      "4    0.007421   -0.004643    0.001584   -0.009829      0\n",
      "5    0.007571   -0.002883    0.001096   -0.000123      0\n",
      "6   -0.001096    0.002291    0.000925   -0.028340      0\n",
      "7    0.000536    0.005403    0.000352   -0.005557      0\n",
      "8    0.006085    0.000942   -0.000227    0.001997      0\n",
      "9    0.001198   -0.001123    0.003024    0.004050      0\n",
      "Enter the number of layers : 10\n",
      "Enter the number of neurons in layer :4\n",
      "Enter the number of neurons in layer :5\n",
      "Enter the number of neurons in layer :7\n",
      "Enter the number of neurons in layer :9\n",
      "Enter the number of neurons in layer :10\n",
      "Enter the number of neurons in layer :7\n",
      "Enter the number of neurons in layer :5\n",
      "Enter the number of neurons in layer :5\n",
      "Enter the number of neurons in layer :5\n",
      "Enter the number of neurons in layer :2\n",
      "Starting training\n",
      "Enter the number of validation splits: 1\n",
      "Accuracy [90.80074487895718]\n"
     ]
    },
    {
     "data": {
      "image/png": "[encoded data removed]",
      "text/plain": [
       "<Figure size 432x288 with 1 Axes>"
      ]
     },
     "metadata": {
      "needs_background": "light"
     },
     "output_type": "display_data"
    }
   ],
   "source": [
    "#ica\n",
    "score=main(False)\n",
    "plt.ylabel('Accuracy')\n",
    "plt.xlabel('Iteration')\n",
    "plt.plot(score[1])\n",
    "print(\"Accuracy\",score[0])"
   ]
  },
  {
   "cell_type": "code",
   "execution_count": null,
   "metadata": {},
   "outputs": [],
   "source": []
  },
  {
   "cell_type": "code",
   "execution_count": null,
   "metadata": {},
   "outputs": [],
   "source": []
  }
 ],
 "metadata": {
  "kernelspec": {
   "display_name": "Python 3",
   "language": "python",
   "name": "python3"
  },
  "language_info": {
   "codemirror_mode": {
    "name": "ipython",
    "version": 3
   },
   "file_extension": ".py",
   "mimetype": "text/x-python",
   "name": "python",
   "nbconvert_exporter": "python",
   "pygments_lexer": "ipython3",
   "version": "3.7.4"
  }
 },
 "nbformat": 4,
 "nbformat_minor": 2
}
